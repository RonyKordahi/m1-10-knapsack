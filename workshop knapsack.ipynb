{
 "cells": [
  {
   "cell_type": "markdown",
   "metadata": {},
   "source": [
    "## Knapsack Problem\n",
    "\n",
    "The *knapsack problem*:  given a set of integers $S = \\{s_1, s_2, \\ldots, s_n\\}$ and a target number $T$, find a subset (i.e., knapsack) of $S$ which adds up exactly to $T$.  \n",
    "\n",
    "For example, if $S = \\{1,2,5, 9, 10\\}$, there is a subset that adds up to $T = 22$, but not to $T = 23$.  Complete the following tasks related to this problem."
   ]
  },
  {
   "cell_type": "markdown",
   "metadata": {},
   "source": [
    "# 1. \n",
    "\n",
    "Find a subset of $S = \\{1,2,5, 9, 10\\}$ with sum $T = 22$.  Explain the process (algorithm) you used mentally to find the subset.  Then apply the same process in an attempt to find a subset with sum $T = 23$.  \n",
    "\n",
    "How do you know there is no such subset?"
   ]
  },
  {
   "cell_type": "markdown",
   "metadata": {},
   "source": [
    "-To find 22, I added all the values in subset S together except for 5. (1 + 2 + 9 + 10 = 22)\n",
    "\n",
    "-No combination of numbers from the subset come out to a total of 23. "
   ]
  },
  {
   "cell_type": "markdown",
   "metadata": {
    "collapsed": true
   },
   "source": [
    "# 2.\n",
    "\n",
    "Consider the following possible algorithm for the knapsack problem, written in psuedocode: \n",
    "```python\n",
    "knapsack(S[], T):\n",
    "    K = empty\n",
    "    for each i < size(S)\n",
    "        if sum(K) + S[i] <= T, put S[i] into K\n",
    "    if sum(K) = T, return K, else return False.\n",
    "```\n",
    "**a)** Describe what this algorithm does in English.  \n",
    "\n",
    "**b)** Implement this algorithm in Python and run it on the $S$ and $T$ above.\n",
    "\n",
    "\n",
    "**c)** Prove that this algorithm is NOT correct.  That is, find a counterexample: a set $S$ and number $T$ for which there is a solution, but not one that the algorithm finds.\n",
    "\n",
    "**d)** Verify that this particular $S$ and $T$ does not give the right output when entered to your Python program."
   ]
  },
  {
   "cell_type": "markdown",
   "metadata": {},
   "source": [
    "### Question 2. a)\n",
    "The algorithm is looking at each number in the subset, and if the sum of the array K with the current iterated element of the subset is smaller than T, the current iterated element gets appended to K. Once the for loop is done, the sum of K is compared to T."
   ]
  },
  {
   "cell_type": "code",
   "execution_count": 8,
   "metadata": {},
   "outputs": [
    {
     "data": {
      "text/plain": [
       "False"
      ]
     },
     "execution_count": 8,
     "metadata": {},
     "output_type": "execute_result"
    }
   ],
   "source": [
    "# Question 2. b)\n",
    "def knapsack(S, T):\n",
    "    K = []\n",
    "    \n",
    "    for i in range(len(S)):\n",
    "        \n",
    "        if sum(K) + S[i] <= T:\n",
    "            K.append(S[i])\n",
    "    if sum(K) == T:\n",
    "        return K\n",
    "    else:\n",
    "        return False\n",
    "\n",
    "S = [1, 2, 5, 9, 10]\n",
    "T = 22\n",
    "knapsack(S, T)"
   ]
  },
  {
   "cell_type": "markdown",
   "metadata": {},
   "source": [
    "### Question 2. c)\n",
    "If we call the same algorithm with the value of T being 27 instead of 22, the algorithm will return K as expected. For the original values of S and T, it cannot find the desired outcome because of the values of the numbers in S."
   ]
  },
  {
   "cell_type": "markdown",
   "metadata": {},
   "source": [
    "### Question 2. d)\n",
    "The algorithm does not give the correct output based on the values of S and T given above, in question 1."
   ]
  },
  {
   "cell_type": "markdown",
   "metadata": {},
   "source": [
    "# 3. \n",
    "\n",
    "Another try: What if you put the elements in the knapsack from largest to smallest?  Check that this too is not a correct algorithm."
   ]
  },
  {
   "cell_type": "code",
   "execution_count": 10,
   "metadata": {},
   "outputs": [
    {
     "data": {
      "text/plain": [
       "[10, 9, 2, 1]"
      ]
     },
     "execution_count": 10,
     "metadata": {},
     "output_type": "execute_result"
    }
   ],
   "source": [
    "# Works fine when in descending order\n",
    "\n",
    "S = [10, 9, 5, 2, 1]\n",
    "T = 22\n",
    "knapsack(S, T)"
   ]
  },
  {
   "cell_type": "markdown",
   "metadata": {},
   "source": [
    "# 4.\n",
    "\n",
    "Describe a correct algorithm for the knapsack problem (that we haven't seen in class), both in English and in pseudocode.  Then implement the algorithm in Python.  Explain how you know your algorithm is correct (even if it might not be efficient)."
   ]
  },
  {
   "cell_type": "markdown",
   "metadata": {},
   "source": [
    "I was actually thinking of a solution during class fairly similar to the one above, but using a list of dictionaries instead.\n",
    "\n",
    "```python\n",
    "\n",
    "def function(list[dict], max_weight):\n",
    "    \n",
    "    create bag\n",
    "    \n",
    "    for d in list[dict]:\n",
    "            \n",
    "        check if weight of bag + weight of d < max_weight:\n",
    "            add and store them\n",
    "    \n",
    "    pop the array\n",
    "    temp_bag = recursively call the function\n",
    "            \n",
    "    return biggest between bag and temp_bag\n",
    "\n",
    "```"
   ]
  },
  {
   "cell_type": "code",
   "execution_count": 51,
   "metadata": {},
   "outputs": [
    {
     "data": {
      "text/plain": [
       "{'value': 9, 'weight': 7}"
      ]
     },
     "execution_count": 51,
     "metadata": {},
     "output_type": "execute_result"
    }
   ],
   "source": [
    "def backpack(arr, M): \n",
    "    \n",
    "    # last element could have huge value and tiny weight, returning 0 only when length is 0\n",
    "    if len(arr) < 1:\n",
    "        return {\"value\": 0, \"weight\": 0}\n",
    "    \n",
    "    bag = {\"value\": 0, \"weight\": 0}\n",
    "    \n",
    "    for e in arr:\n",
    "        \n",
    "        if bag[\"weight\"] + e[\"weight\"] <= M:\n",
    "            \n",
    "            bag[\"weight\"] += e[\"weight\"]\n",
    "            bag[\"value\"] += e[\"value\"]\n",
    "            \n",
    "    arr.pop(0)\n",
    "\n",
    "    temp_bag = backpack(arr, M)\n",
    "    \n",
    "    if bag[\"value\"] > temp_bag[\"value\"]:\n",
    "        return bag\n",
    "    else:\n",
    "        return temp_bag\n",
    "\n",
    "loot = [{\"value\":3, \"weight\": 2}, {\"value\":4, \"weight\": 3}, {\"value\":5, \"weight\": 4}, {\"value\":5, \"weight\": 5}]\n",
    "max_weight = 7\n",
    "backpack(loot, max_weight)\n",
    "\n",
    "# Explanation:\n",
    "# Instead of overloading the eyes with 2 arrays and nested for loops, the dictionary handles both the weight and value. \n",
    "# This does lead to an if condition for the return but overall, with the recursiveness of the algorithm, it handles itself \n",
    "# pretty well and comes up with the expected output"
   ]
  },
  {
   "cell_type": "markdown",
   "metadata": {
    "collapsed": true
   },
   "source": [
    "# 5. Generating correct change\n",
    "\n",
    "Now, we will be making change using the fewest coins. \n",
    "\n",
    "Suppose you are a programmer for a vending machine manufacturer. Your company wants to streamline effort by giving out the fewest possible coins in change for each transaction. Suppose a customer puts in a dollar bill and purchases an item for 37 cents. What is the smallest number of coins you can use to make change? The answer is six coins: two quarters, one dime, and three pennies. \n",
    "\n",
    "How did we arrive at the answer of six coins? We start with the largest coin in our arsenal (a quarter) and use as many of those as possible, then we go to the next lowest coin value and use as many of those as possible. This is the greedy algorithm for change-making.\n",
    "\n",
    "**Question:** Write the greedy algorithm for change making.\n",
    "\n",
    "The input is the amount of change to generate (in pennies) and a list of coin sizes (in pennies)\n",
    "\n",
    "The output is the minimum number of coins to gener\n",
    "\n",
    "```\n",
    "# buys with 1 dollar for 37 pennies\n",
    "# Second argument says we can give quarters, dimes, nickels and pennies\n",
    "make_change(100 - 37, [25, 10, 5, 1])\n",
    "\n",
    "# 2 quarters, one dime, and three pennies\n",
    "output --> 6 # Output would be equivalent to the choices [2, 1, 0, 3]\n",
    "```"
   ]
  },
  {
   "cell_type": "code",
   "execution_count": 54,
   "metadata": {},
   "outputs": [
    {
     "data": {
      "text/plain": [
       "[2, 1, 0, 3]"
      ]
     },
     "execution_count": 54,
     "metadata": {},
     "output_type": "execute_result"
    }
   ],
   "source": [
    "def make_change(total, coins):\n",
    "    \n",
    "    change = []\n",
    "    \n",
    "    for coin in coins:\n",
    "        count = 0\n",
    "        \n",
    "        while total >= coin:\n",
    "            \n",
    "            total -= coin\n",
    "            count += 1\n",
    "        \n",
    "        change.append(count)\n",
    "        \n",
    "    return change\n",
    "\n",
    "\n",
    "make_change(100 - 37, [25, 10, 5, 1])"
   ]
  },
  {
   "cell_type": "markdown",
   "metadata": {},
   "source": [
    "# 6 Recursive change\n",
    "\n",
    "Write the greedy change making algorithm using recursion"
   ]
  },
  {
   "cell_type": "code",
   "execution_count": 117,
   "metadata": {},
   "outputs": [
    {
     "data": {
      "text/plain": [
       "[2, 1, 0, 3]"
      ]
     },
     "execution_count": 117,
     "metadata": {},
     "output_type": "execute_result"
    }
   ],
   "source": [
    "# got help from Javad\n",
    "\n",
    "def recursive_make_change(total, coins):\n",
    "    \n",
    "    if len(coins) < 1:\n",
    "        return []\n",
    "    \n",
    "    change = []\n",
    "    count = 0\n",
    "    coin = coins.pop(0)\n",
    "    \n",
    "    while total >= coin:\n",
    "\n",
    "        total -= coin\n",
    "        count += 1\n",
    "    \n",
    "    change.append(count)\n",
    "    change.extend(recursive_make_change(total, coins))\n",
    "    \n",
    "    return change\n",
    "\n",
    "recursive_make_change(100 - 37, [25, 10, 5, 1])"
   ]
  },
  {
   "cell_type": "markdown",
   "metadata": {},
   "source": [
    "# 7 Dynamic Programming Change making (stretch goal)\n",
    "\n",
    "Write a solution to the change making problem using dynamic programming.\n",
    "\n",
    "**Hint:** Start with making change for one cent and systematically work its way up to the amount of change we require. This guarantees us that at each step of the algorithm we already know the minimum number of coins needed to make change for any smaller amount. Keep a memoized table of results for each step working up to the amount of change you need to generate."
   ]
  }
 ],
 "metadata": {
  "kernelspec": {
   "display_name": "Python 3",
   "language": "python",
   "name": "python3"
  },
  "language_info": {
   "codemirror_mode": {
    "name": "ipython",
    "version": 3
   },
   "file_extension": ".py",
   "mimetype": "text/x-python",
   "name": "python",
   "nbconvert_exporter": "python",
   "pygments_lexer": "ipython3",
   "version": "3.7.6"
  }
 },
 "nbformat": 4,
 "nbformat_minor": 1
}
